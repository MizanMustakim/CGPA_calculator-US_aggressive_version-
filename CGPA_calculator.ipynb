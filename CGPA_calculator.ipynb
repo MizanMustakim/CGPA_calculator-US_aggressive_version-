{
  "nbformat": 4,
  "nbformat_minor": 0,
  "metadata": {
    "colab": {
      "name": "CGPA_calculator.ipynb",
      "provenance": [],
      "authorship_tag": "ABX9TyOgsffn2NT/gUQ2x9bPTuA9",
      "include_colab_link": true
    },
    "kernelspec": {
      "name": "python3",
      "display_name": "Python 3"
    },
    "language_info": {
      "name": "python"
    }
  },
  "cells": [
    {
      "cell_type": "markdown",
      "metadata": {
        "id": "view-in-github",
        "colab_type": "text"
      },
      "source": [
        "<a href=\"https://colab.research.google.com/github/MizanMustakim/CGPA_calculator-US_aggressive_version-/blob/main/CGPA_calculator.ipynb\" target=\"_parent\"><img src=\"https://colab.research.google.com/assets/colab-badge.svg\" alt=\"Open In Colab\"/></a>"
      ]
    },
    {
      "cell_type": "code",
      "source": [
        "import pandas as pd"
      ],
      "metadata": {
        "id": "9kwgQoazfZkR"
      },
      "execution_count": 30,
      "outputs": []
    },
    {
      "cell_type": "code",
      "execution_count": 39,
      "metadata": {
        "id": "lpnzcQrq_8Jc"
      },
      "outputs": [],
      "source": [
        "class cgpa_calculator():\n",
        "    def __init__(self, course) -> None:\n",
        "        self.course_name = course\n",
        "        self.score = None\n",
        "        self.score_list = []\n",
        "        self.grade_list = []\n",
        "        self.gpa_list = []\n",
        "        self.credit = []\n",
        "        self.cumulative = []\n",
        "\n",
        "    def data_list(self):\n",
        "        i = 0\n",
        "        while i < len(self.course_name):        \n",
        "            self.score = eval(input(\"Enter the score of {}: \".format(self.course_name[i])))\n",
        "            crd = eval(input(\"Enter the credit of {}: \".format(self.course_name[i])))\n",
        "            self.credit.append(crd)\n",
        "\n",
        "            self.gpa()\n",
        "\n",
        "            self.score_list.append(self.score)\n",
        "            self.cumulative.append(self.gpa_list[i] * self.credit[i])\n",
        "\n",
        "            i+=1\n",
        "        \n",
        "        data = {\"Courese\\nName\": self.course_name,\n",
        "                \"Score\": self.score_list,\n",
        "                \"Credit\": self.credit,\n",
        "                \"GPA\": self.grade_list,\n",
        "                \"GPA Point\": self.gpa_list,\n",
        "                \"Cumulative Points\": self.cumulative}\n",
        "\n",
        "        df1 = pd.DataFrame(data=data)\n",
        "\n",
        "        return df1\n",
        "\n",
        "\n",
        "    def gpa(self):\n",
        "        if self.score >= 90 and self.score <= 100:\n",
        "            grade=\"A\"\n",
        "            gpa_point = 4.0\n",
        "        elif self.score >= 85 and self.score < 90:\n",
        "            grade = \"A-\"\n",
        "            gpa_point = 3.7\n",
        "        elif self.score >= 82 and self.score < 85:\n",
        "            grade = \"B+\"\n",
        "            gpa_point = 3.3\n",
        "        elif self.score >= 78 and self.score < 82:\n",
        "            grade = \"B\"\n",
        "            gpa_point = 3.0\n",
        "        elif self.score >= 75 and self.score < 78:\n",
        "            grade = \"B-\"\n",
        "            gpa_point = 2.7\n",
        "        elif self.score >= 72 and self.score < 75:\n",
        "            grade = \"C+\"\n",
        "            gpa_point = 2.3\n",
        "        elif self.score >= 68 and self.score < 72:\n",
        "            grade = \"C\"\n",
        "            gpa_point = 2.0\n",
        "        elif self.score >= 65 and self.score < 68:\n",
        "            grade = \"C-\"\n",
        "            gpa_point = 1.7\n",
        "        elif self.score >= 60 and self.score < 65:\n",
        "            grade = \"D\"\n",
        "            gpa_point = 1.0\n",
        "        elif self.score < 60:\n",
        "            grade = \"F\"\n",
        "            gpa_point = 0.0\n",
        "\n",
        "        self.grade_list.append(grade)\n",
        "        self.gpa_list.append(gpa_point)"
      ]
    },
    {
      "cell_type": "code",
      "source": [
        "course_list = [\"Elementary Chinese I\", \"Elementary Chinese Listening I\", \"Calculus A(I)\", \"Linear Algebra\", \"Computer Fundamentals\", \"Outline of China\",\n",
        "               \"Calculus A(II)\", \"Elementary Chinese II\", \"Elementary Chinese Listening II\", \"Fundamental of Electric Circuits\", \"C Programming Language\",\n",
        "               \"Physics I\", \"General Chemistry\", \"Probability Theory and Mathematical Statistics\", \"Mediate Chinese I\", \"Mediate Listening I\", \"Physics II\",\n",
        "               \"Data Structure\", \"Discrete Mathematics\", \"Mediate Chinese II\", \"Mediate Listening II\", \"Fundamentals of Digital Logic with VHDL Design\",\n",
        "               \"Database Technology & Application\", \"Python Language Programming\", \"Theory of Computation and Design of Algorithms\", \"Computer Graphics\",\n",
        "               \"Object-Oriented Programming\", \"Operating System\", \"Fundamental Practice of Computer SCience\", \"Big Data System Development\", \n",
        "               \"Computer Organization and Architecture\", \"Data Warehouse and Mining\", \"Fundamental of Artificial Intelligence\", \"Comprehensive Chinese\", \"HSK level 4 training\"]"
      ],
      "metadata": {
        "id": "J6FGv-FEOax6"
      },
      "execution_count": 29,
      "outputs": []
    },
    {
      "cell_type": "code",
      "source": [
        "a = cgpa_calculator(course_list)"
      ],
      "metadata": {
        "id": "fJDjWQ8lPXZp"
      },
      "execution_count": 46,
      "outputs": []
    },
    {
      "cell_type": "code",
      "source": [
        "df1 = a.data_list()"
      ],
      "metadata": {
        "id": "Fd3ApMXvf7n_"
      },
      "execution_count": null,
      "outputs": []
    },
    {
      "cell_type": "code",
      "source": [
        "df1.to_csv(\"Score_sheet.csv\", index=False)"
      ],
      "metadata": {
        "id": "UYHNAw0rm6Nv"
      },
      "execution_count": 52,
      "outputs": []
    },
    {
      "cell_type": "code",
      "source": [
        "print(\"CGPA: {:.2f}\".format(df1[\"Cumulative Points\"].sum() / df1[\"Credit\"].sum()))"
      ],
      "metadata": {
        "id": "qEc2nj3plEjx"
      },
      "execution_count": null,
      "outputs": []
    }
  ]
}